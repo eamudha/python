{
 "cells": [
  {
   "cell_type": "code",
   "execution_count": null,
   "id": "f9eabb57",
   "metadata": {},
   "outputs": [],
   "source": [
    "#for loop"
   ]
  },
  {
   "cell_type": "code",
   "execution_count": 5,
   "id": "f008a25e",
   "metadata": {},
   "outputs": [],
   "source": [
    "lists=[33,12,21,45,69,80,18]"
   ]
  },
  {
   "cell_type": "code",
   "execution_count": 6,
   "id": "273fe368",
   "metadata": {},
   "outputs": [
    {
     "name": "stdout",
     "output_type": "stream",
     "text": [
      "33\n",
      "12\n",
      "21\n",
      "45\n",
      "69\n",
      "80\n",
      "18\n"
     ]
    }
   ],
   "source": [
    "for age in lists:\n",
    "    print(age)"
   ]
  },
  {
   "cell_type": "code",
   "execution_count": 17,
   "id": "71e6ca5d",
   "metadata": {},
   "outputs": [
    {
     "name": "stdout",
     "output_type": "stream",
     "text": [
      "Adult\n",
      "Children\n",
      "Adult\n",
      "Citizen\n",
      "Sr Citizen\n",
      "Sr Citizen\n",
      "Adult\n"
     ]
    }
   ],
   "source": [
    "for age in lists:\n",
    "    if(age<18):\n",
    "        print(\"Children\")\n",
    "    elif(age<35):\n",
    "        print(\"Adult\")\n",
    "    elif(age<60):\n",
    "        print(\"Citizen\")\n",
    "    else:\n",
    "        print(\"Sr Citizen\")"
   ]
  },
  {
   "cell_type": "code",
   "execution_count": null,
   "id": "7856b02c",
   "metadata": {},
   "outputs": [],
   "source": []
  }
 ],
 "metadata": {
  "kernelspec": {
   "display_name": "Python 3 (ipykernel)",
   "language": "python",
   "name": "python3"
  },
  "language_info": {
   "codemirror_mode": {
    "name": "ipython",
    "version": 3
   },
   "file_extension": ".py",
   "mimetype": "text/x-python",
   "name": "python",
   "nbconvert_exporter": "python",
   "pygments_lexer": "ipython3",
   "version": "3.11.5"
  }
 },
 "nbformat": 4,
 "nbformat_minor": 5
}

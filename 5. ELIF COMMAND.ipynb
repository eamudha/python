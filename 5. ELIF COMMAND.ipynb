{
 "cells": [
  {
   "cell_type": "code",
   "execution_count": null,
   "id": "88f25bfd",
   "metadata": {},
   "outputs": [],
   "source": [
    "#elif:"
   ]
  },
  {
   "cell_type": "code",
   "execution_count": 2,
   "id": "8dc7f401",
   "metadata": {},
   "outputs": [
    {
     "name": "stdout",
     "output_type": "stream",
     "text": [
      "Enter the Age:17\n",
      "Children\n"
     ]
    }
   ],
   "source": [
    "age=int(input(\"Enter the Age:\"))\n",
    "if(age<18):\n",
    "    print(\"Children\")\n",
    "elif(age>18):\n",
    "    print(\"Adult\")\n",
    "elif(age>25):\n",
    "    print(\"Citizen\")\n",
    "elif(age>60):\n",
    "    print(\"Sr Citizen\")\n"
   ]
  },
  {
   "cell_type": "code",
   "execution_count": null,
   "id": "c1f34360",
   "metadata": {},
   "outputs": [],
   "source": []
  }
 ],
 "metadata": {
  "kernelspec": {
   "display_name": "Python 3 (ipykernel)",
   "language": "python",
   "name": "python3"
  },
  "language_info": {
   "codemirror_mode": {
    "name": "ipython",
    "version": 3
   },
   "file_extension": ".py",
   "mimetype": "text/x-python",
   "name": "python",
   "nbconvert_exporter": "python",
   "pygments_lexer": "ipython3",
   "version": "3.11.5"
  }
 },
 "nbformat": 4,
 "nbformat_minor": 5
}

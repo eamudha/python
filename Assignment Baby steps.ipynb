{
 "cells": [
  {
   "cell_type": "code",
   "execution_count": 1,
   "id": "9cac826f",
   "metadata": {},
   "outputs": [
    {
     "name": "stdout",
     "output_type": "stream",
     "text": [
      "Welcome to Assingment 1\n"
     ]
    }
   ],
   "source": [
    "print(\"Welcome to Assingment 1\")"
   ]
  },
  {
   "cell_type": "code",
   "execution_count": 4,
   "id": "739ad184",
   "metadata": {},
   "outputs": [
    {
     "name": "stdout",
     "output_type": "stream",
     "text": [
      "Enter No:30\n",
      "Enter No:40\n",
      "70\n"
     ]
    }
   ],
   "source": [
    "num1=int(input(\"Enter No:\"))\n",
    "num2=int(input(\"Enter No:\"))\n",
    "add=num1+num2\n",
    "print(add)"
   ]
  },
  {
   "cell_type": "code",
   "execution_count": 11,
   "id": "957e06ed",
   "metadata": {},
   "outputs": [
    {
     "name": "stdout",
     "output_type": "stream",
     "text": [
      "Body Mass Index\n",
      "Enter the Weight:34\n",
      "Obsese Class I\n"
     ]
    }
   ],
   "source": [
    "print(\"Body Mass Index\")\n",
    "weight=int(input(\"Enter the Weight:\"))\n",
    "if(weight<=18.5):\n",
    "    print(\"Under Weight\")\n",
    "elif(weight<=24.5):\n",
    "    print(\"Normal Range\")\n",
    "elif(weight<=29.5):\n",
    "    print(\"Over Weight\")\n",
    "elif(weight<=30):\n",
    "    Print(\"Obese\")\n",
    "else:\n",
    "    print(\"Obsese Class I\")\n"
   ]
  },
  {
   "cell_type": "code",
   "execution_count": 5,
   "id": "4356d879",
   "metadata": {},
   "outputs": [
    {
     "name": "stdout",
     "output_type": "stream",
     "text": [
      "24.5\n",
      "Normal Range\n",
      "24\n",
      "Normal Range\n",
      "30\n",
      "Obese\n",
      "18\n",
      "Under Weight\n",
      "18.5\n",
      "Under Weight\n"
     ]
    }
   ],
   "source": [
    "lists=[24.5,24,30,18,18.5]\n",
    "for weight in lists:\n",
    "    print(weight)\n",
    "    if(weight<=18.5):\n",
    "        print(\"Under Weight\")\n",
    "    elif(weight<=24.5):\n",
    "        print(\"Normal Range\")\n",
    "    elif(weight<=29.5):\n",
    "        print(\"Over Weight\")\n",
    "    elif(weight<=30):\n",
    "        print(\"Obese\")\n",
    "    else:\n",
    "        print(\"Obsese Class I\")"
   ]
  },
  {
   "cell_type": "code",
   "execution_count": null,
   "id": "529e0e3d",
   "metadata": {},
   "outputs": [],
   "source": []
  }
 ],
 "metadata": {
  "kernelspec": {
   "display_name": "Python 3 (ipykernel)",
   "language": "python",
   "name": "python3"
  },
  "language_info": {
   "codemirror_mode": {
    "name": "ipython",
    "version": 3
   },
   "file_extension": ".py",
   "mimetype": "text/x-python",
   "name": "python",
   "nbconvert_exporter": "python",
   "pygments_lexer": "ipython3",
   "version": "3.11.5"
  }
 },
 "nbformat": 4,
 "nbformat_minor": 5
}
